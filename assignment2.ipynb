{
  "nbformat": 4,
  "nbformat_minor": 0,
  "metadata": {
    "colab": {
      "provenance": [],
      "authorship_tag": "ABX9TyN5o0twfCetvxu9nM/oBog2",
      "include_colab_link": true
    },
    "kernelspec": {
      "name": "python3",
      "display_name": "Python 3"
    },
    "language_info": {
      "name": "python"
    }
  },
  "cells": [
    {
      "cell_type": "markdown",
      "metadata": {
        "id": "view-in-github",
        "colab_type": "text"
      },
      "source": [
        "<a href=\"https://colab.research.google.com/github/kritisinghh/summer-code/blob/main/assignment2.ipynb\" target=\"_parent\"><img src=\"https://colab.research.google.com/assets/colab-badge.svg\" alt=\"Open In Colab\"/></a>"
      ]
    },
    {
      "cell_type": "markdown",
      "source": [
        "write a python program to sort the list of heterogenous data.\n",
        "L=[\"Ram\",1,\"Shyam\",2,\"Aman\",3]     \n",
        "print(L)\n",
        "L.sort()\n",
        "print(L)"
      ],
      "metadata": {
        "id": "_0cY2hMqomKo"
      }
    },
    {
      "cell_type": "code",
      "source": [
        "L = [\"Ram\", 1, \"Shyam\", 2, \"Aman\", 3]\n",
        "print(\"Original list:\", L)\n",
        "\n",
        "# Separate the numbers and strings into different lists\n",
        "numbers = [x for x in L if isinstance(x, int)]\n",
        "strings = [x for x in L if isinstance(x, str)]\n",
        "\n",
        "# Sort the numbers and strings separately\n",
        "numbers.sort()\n",
        "strings.sort()\n",
        "\n",
        "# Combine the sorted lists\n",
        "sorted_list = strings + numbers\n",
        "\n",
        "print(\"Sorted list:\", sorted_list)\n"
      ],
      "metadata": {
        "colab": {
          "base_uri": "https://localhost:8080/"
        },
        "id": "AQ_GdQ9sorn0",
        "outputId": "1f737754-6ab8-4d45-a6f5-4a015da59871"
      },
      "execution_count": 1,
      "outputs": [
        {
          "output_type": "stream",
          "name": "stdout",
          "text": [
            "Original list: ['Ram', 1, 'Shyam', 2, 'Aman', 3]\n",
            "Sorted list: ['Aman', 'Ram', 'Shyam', 1, 2, 3]\n"
          ]
        }
      ]
    },
    {
      "cell_type": "code",
      "source": [],
      "metadata": {
        "id": "hcf68RF6ozms"
      },
      "execution_count": null,
      "outputs": []
    }
  ]
}