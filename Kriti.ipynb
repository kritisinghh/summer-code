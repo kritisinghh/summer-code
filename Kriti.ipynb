{
  "nbformat": 4,
  "nbformat_minor": 0,
  "metadata": {
    "colab": {
      "provenance": [],
      "authorship_tag": "ABX9TyOEq4mPUF5PusbjvltAC2DX",
      "include_colab_link": true
    },
    "kernelspec": {
      "name": "python3",
      "display_name": "Python 3"
    },
    "language_info": {
      "name": "python"
    }
  },
  "cells": [
    {
      "cell_type": "markdown",
      "metadata": {
        "id": "view-in-github",
        "colab_type": "text"
      },
      "source": [
        "<a href=\"https://colab.research.google.com/github/kritisinghh/summercode/blob/main/Kriti.ipynb\" target=\"_parent\"><img src=\"https://colab.research.google.com/assets/colab-badge.svg\" alt=\"Open In Colab\"/></a>"
      ]
    },
    {
      "cell_type": "markdown",
      "source": [],
      "metadata": {
        "id": "YYei6xGHsqOt"
      }
    },
    {
      "cell_type": "code",
      "source": [
        "L=[11,12,13,14]"
      ],
      "metadata": {
        "id": "o8HM5ykHCykQ"
      },
      "execution_count": null,
      "outputs": []
    },
    {
      "cell_type": "code",
      "source": [
        "#WAP to add 50 and 60 to L\n",
        "L=[11,12,13,14]\n",
        "L.append(50)\n",
        "L.append(60)\n",
        "print(L)\n"
      ],
      "metadata": {
        "colab": {
          "base_uri": "https://localhost:8080/"
        },
        "id": "u3Hfeh0UtSqk",
        "outputId": "ac8b0a62-395b-4159-d182-062d6a60b9ce"
      },
      "execution_count": null,
      "outputs": [
        {
          "output_type": "stream",
          "name": "stdout",
          "text": [
            "[11, 12, 13, 14, 50, 60]\n"
          ]
        }
      ]
    },
    {
      "cell_type": "code",
      "source": [
        "#WAP to remove 11 and 13 from L\n",
        "L=[11,12,13,14,50,60]\n",
        "print(L)\n",
        "L.pop(0)\n",
        "print(L)\n",
        "L.pop(1)\n",
        "print(L)\n"
      ],
      "metadata": {
        "colab": {
          "base_uri": "https://localhost:8080/"
        },
        "id": "5k0dyckgtjyk",
        "outputId": "8267ebbc-7374-432e-9ef0-d7fa8173b1ea"
      },
      "execution_count": null,
      "outputs": [
        {
          "output_type": "stream",
          "name": "stdout",
          "text": [
            "[11, 12, 13, 14, 50, 60]\n",
            "[12, 13, 14, 50, 60]\n",
            "[12, 14, 50, 60]\n"
          ]
        }
      ]
    },
    {
      "cell_type": "code",
      "source": [
        "#WAP to sort L in ascending order\n",
        "L.sort()\n",
        "print(L)"
      ],
      "metadata": {
        "colab": {
          "base_uri": "https://localhost:8080/"
        },
        "id": "YzOcL90av0R9",
        "outputId": "d4ef2451-c248-4d33-f661-a9c2a8e1bb6b"
      },
      "execution_count": null,
      "outputs": [
        {
          "output_type": "stream",
          "name": "stdout",
          "text": [
            "[12, 14, 50, 60]\n"
          ]
        }
      ]
    },
    {
      "cell_type": "code",
      "source": [
        "#WAP to sort L in descending order \n",
        "L.sort(reverse=True)\n",
        "print(L)"
      ],
      "metadata": {
        "colab": {
          "base_uri": "https://localhost:8080/"
        },
        "id": "Bu9k8qpRv6_d",
        "outputId": "f51e6e3c-52c2-4f10-d151-ceea19cf0aa1"
      },
      "execution_count": null,
      "outputs": [
        {
          "output_type": "stream",
          "name": "stdout",
          "text": [
            "[60, 50, 14, 12]\n"
          ]
        }
      ]
    },
    {
      "cell_type": "code",
      "source": [
        "#WAP to search 13 in L\n",
        "L=[11,12,13,14,50,60]\n",
        "for i in range(len(L)):\n",
        "  if L[i]==13:\n",
        "    print(\"13 is found at\",i,\"index\")\n",
        "  else:\n",
        "    print(\"13 is not found at\",i,\"index\")"
      ],
      "metadata": {
        "colab": {
          "base_uri": "https://localhost:8080/"
        },
        "id": "D2lCOxqRwJaB",
        "outputId": "4efcdfdf-ccf1-4f62-df07-332027ac8891"
      },
      "execution_count": null,
      "outputs": [
        {
          "output_type": "stream",
          "name": "stdout",
          "text": [
            "13 is not found at 0 index\n",
            "13 is not found at 1 index\n",
            "13 is found at 2 index\n",
            "13 is not found at 3 index\n",
            "13 is not found at 4 index\n",
            "13 is not found at 5 index\n"
          ]
        }
      ]
    },
    {
      "cell_type": "code",
      "source": [
        "#WAP to count number of elements in L\n",
        "print(\"Number of elements in L:\",len(L))"
      ],
      "metadata": {
        "colab": {
          "base_uri": "https://localhost:8080/"
        },
        "id": "nFUENUHPwSpW",
        "outputId": "c6cc2832-691c-40bf-d8e9-b85584431ac3"
      },
      "execution_count": null,
      "outputs": [
        {
          "output_type": "stream",
          "name": "stdout",
          "text": [
            "Number of elements in L: 6\n"
          ]
        }
      ]
    },
    {
      "cell_type": "code",
      "source": [
        "#WAP to sum all the elements in L\n",
        "print(\"Sum of all the elements in list L:\",sum(L))"
      ],
      "metadata": {
        "colab": {
          "base_uri": "https://localhost:8080/"
        },
        "id": "9Ck1AvJyxyHi",
        "outputId": "55a823df-f9b1-406f-fd87-eeb5206b892e"
      },
      "execution_count": null,
      "outputs": [
        {
          "output_type": "stream",
          "name": "stdout",
          "text": [
            "Sum of all the elements in list L: 160\n"
          ]
        }
      ]
    },
    {
      "cell_type": "code",
      "source": [
        "#WAP to sum all the odd numbers in L\n",
        "s=0\n",
        "for i in L:\n",
        "  if i%2!=0:\n",
        "    s=s+i\n",
        "print(\"Sum of all the odd numbers in list L:\",s)"
      ],
      "metadata": {
        "colab": {
          "base_uri": "https://localhost:8080/"
        },
        "id": "U96hWlUkx8HW",
        "outputId": "021e3c48-e349-4b6d-c4cd-272cf86d357c"
      },
      "execution_count": null,
      "outputs": [
        {
          "output_type": "stream",
          "name": "stdout",
          "text": [
            "Sum of all the odd numbers in list L: 24\n"
          ]
        }
      ]
    },
    {
      "cell_type": "code",
      "source": [
        "#WAP to sum all the even numbers in L\n",
        "s=0\n",
        "for i in L:\n",
        "  if i%2==0:\n",
        "    s=s+i\n",
        "print(\"Sum of all the even numbers in list L:\",s)"
      ],
      "metadata": {
        "colab": {
          "base_uri": "https://localhost:8080/"
        },
        "id": "TFv_rELdyTKa",
        "outputId": "81710929-80e8-4ad5-9e59-a97a4c204403"
      },
      "execution_count": null,
      "outputs": [
        {
          "output_type": "stream",
          "name": "stdout",
          "text": [
            "Sum of all the even numbers in list L: 136\n"
          ]
        }
      ]
    },
    {
      "cell_type": "code",
      "source": [
        "#WAP to sum all prime numbers in L\n",
        "s=0\n",
        "for i in L:\n",
        "  f=0\n",
        "  for j in range(2,i//2+1):\n",
        "    if i%j==0:\n",
        "      f=1\n",
        "  if f==0:\n",
        "    s=s+i\n",
        "print(\"Sum of all prime numbers in list L:\",s)"
      ],
      "metadata": {
        "colab": {
          "base_uri": "https://localhost:8080/"
        },
        "id": "27qQKuKHyeUC",
        "outputId": "477da433-e36b-4801-f2c1-30348aeaccd8"
      },
      "execution_count": null,
      "outputs": [
        {
          "output_type": "stream",
          "name": "stdout",
          "text": [
            "Sum of all prime numbers in list L: 24\n"
          ]
        }
      ]
    },
    {
      "cell_type": "code",
      "source": [
        "#WAP to clear all elements in L\n",
        "L.clear()\n",
        "print(L)"
      ],
      "metadata": {
        "colab": {
          "base_uri": "https://localhost:8080/"
        },
        "id": "yzuHNAvuzSdd",
        "outputId": "51a10066-94e5-432b-f260-a56231163191"
      },
      "execution_count": null,
      "outputs": [
        {
          "output_type": "stream",
          "name": "stdout",
          "text": [
            "[]\n"
          ]
        }
      ]
    },
    {
      "cell_type": "code",
      "source": [
        "#WAP to delete L\n",
        "del L\n",
        "print(L)"
      ],
      "metadata": {
        "colab": {
          "base_uri": "https://localhost:8080/",
          "height": 200
        },
        "id": "y0Lg3Tiwza3u",
        "outputId": "2a92418f-2ed5-46b8-e03d-fd4e02c88fc8"
      },
      "execution_count": null,
      "outputs": [
        {
          "output_type": "error",
          "ename": "NameError",
          "evalue": "ignored",
          "traceback": [
            "\u001b[0;31m---------------------------------------------------------------------------\u001b[0m",
            "\u001b[0;31mNameError\u001b[0m                                 Traceback (most recent call last)",
            "\u001b[0;32m<ipython-input-39-fd4ae5413450>\u001b[0m in \u001b[0;36m<cell line: 3>\u001b[0;34m()\u001b[0m\n\u001b[1;32m      1\u001b[0m \u001b[0;31m#WAP to delete L\u001b[0m\u001b[0;34m\u001b[0m\u001b[0;34m\u001b[0m\u001b[0m\n\u001b[1;32m      2\u001b[0m \u001b[0;32mdel\u001b[0m \u001b[0mL\u001b[0m\u001b[0;34m\u001b[0m\u001b[0;34m\u001b[0m\u001b[0m\n\u001b[0;32m----> 3\u001b[0;31m \u001b[0mprint\u001b[0m\u001b[0;34m(\u001b[0m\u001b[0mL\u001b[0m\u001b[0;34m)\u001b[0m\u001b[0;34m\u001b[0m\u001b[0;34m\u001b[0m\u001b[0m\n\u001b[0m",
            "\u001b[0;31mNameError\u001b[0m: name 'L' is not defined"
          ]
        }
      ]
    },
    {
      "cell_type": "markdown",
      "source": [
        "D={1:5.6,2:7.8,3:6.6,4:8.7,5:7.7}"
      ],
      "metadata": {
        "id": "PPpRMJ-7zkb4"
      }
    },
    {
      "cell_type": "code",
      "source": [
        "D={1:5.6,2:7.8,3:6.6,4:8.7,5:7.7}\n",
        "#WAP to add new entry in D;key=8 and value is 8.8\n",
        "D[8]=8.8\n",
        "print(D)"
      ],
      "metadata": {
        "colab": {
          "base_uri": "https://localhost:8080/"
        },
        "id": "ij3PPSBfzypb",
        "outputId": "789bf306-8a46-45d2-cf16-42ee38672b8c"
      },
      "execution_count": null,
      "outputs": [
        {
          "output_type": "stream",
          "name": "stdout",
          "text": [
            "{1: 5.6, 2: 7.8, 3: 6.6, 4: 8.7, 5: 7.7, 8: 8.8}\n"
          ]
        }
      ]
    },
    {
      "cell_type": "code",
      "source": [
        "#WAP to remive key=2\n",
        "del D[2]\n",
        "print(D)"
      ],
      "metadata": {
        "colab": {
          "base_uri": "https://localhost:8080/"
        },
        "id": "dOSEKx3C0Ffd",
        "outputId": "842e377f-b158-4c21-f7d8-ff476700794f"
      },
      "execution_count": null,
      "outputs": [
        {
          "output_type": "stream",
          "name": "stdout",
          "text": [
            "{1: 5.6, 3: 6.6, 4: 8.7, 5: 7.7, 8: 8.8}\n"
          ]
        }
      ]
    },
    {
      "cell_type": "code",
      "source": [
        "#WAP to check whether 6 key is present in D\n",
        "print(\"6 key is present in D:\",6 in D)"
      ],
      "metadata": {
        "colab": {
          "base_uri": "https://localhost:8080/"
        },
        "id": "0ZKKb33N0Myi",
        "outputId": "874e132d-226f-432c-ed3f-2e1f17b0baa6"
      },
      "execution_count": null,
      "outputs": [
        {
          "output_type": "stream",
          "name": "stdout",
          "text": [
            "6 key is present in D: False\n"
          ]
        }
      ]
    },
    {
      "cell_type": "code",
      "source": [
        "#WAP to add all value present in D\n",
        "s=0\n",
        "for i in D:\n",
        "  s=s+D[i]\n",
        "print(\"Sum of all values present in D:\",s)"
      ],
      "metadata": {
        "colab": {
          "base_uri": "https://localhost:8080/"
        },
        "id": "m0-x5IN90cCv",
        "outputId": "4e5ec09a-0f1a-4ba3-fb5c-ad9ada3442ee"
      },
      "execution_count": null,
      "outputs": [
        {
          "output_type": "stream",
          "name": "stdout",
          "text": [
            "Sum of all values present in D: 37.4\n"
          ]
        }
      ]
    },
    {
      "cell_type": "code",
      "source": [
        "#WAP to update value of 3 to 7.1\n",
        "D[3]=7.1\n",
        "print(D)"
      ],
      "metadata": {
        "colab": {
          "base_uri": "https://localhost:8080/"
        },
        "id": "CAca2aRY0rpp",
        "outputId": "a3b4abe3-dd4b-4692-a482-7623dde96006"
      },
      "execution_count": null,
      "outputs": [
        {
          "output_type": "stream",
          "name": "stdout",
          "text": [
            "{1: 5.6, 3: 7.1, 4: 8.7, 5: 7.7, 8: 8.8}\n"
          ]
        }
      ]
    },
    {
      "cell_type": "code",
      "source": [
        "#WAP to clear the dictionary \n",
        "D.clear()\n",
        "print(D)"
      ],
      "metadata": {
        "colab": {
          "base_uri": "https://localhost:8080/"
        },
        "id": "Z_SEFvUR03W3",
        "outputId": "5abdf42d-e514-480f-b14c-5b0eeeff801e"
      },
      "execution_count": null,
      "outputs": [
        {
          "output_type": "stream",
          "name": "stdout",
          "text": [
            "{}\n"
          ]
        }
      ]
    },
    {
      "cell_type": "markdown",
      "source": [
        "S1={10,20,30,40,50,60}\n",
        "S2={40,50,60,70,80,90}"
      ],
      "metadata": {
        "id": "O_Xv0Bcg1CKS"
      }
    },
    {
      "cell_type": "code",
      "source": [
        "S1={10,20,30,40,50,60}\n",
        "S2={40,50,60,70,80,90}\n",
        "#WAP to add 55 and 66 in Set S1\n",
        "S1.add(55)\n",
        "S1.add(66)\n",
        "print(S1)"
      ],
      "metadata": {
        "colab": {
          "base_uri": "https://localhost:8080/"
        },
        "id": "8LCKCTmD1NZG",
        "outputId": "5bd69cf3-42e2-4c11-ca00-5e70723d9be2"
      },
      "execution_count": null,
      "outputs": [
        {
          "output_type": "stream",
          "name": "stdout",
          "text": [
            "{50, 66, 20, 55, 40, 10, 60, 30}\n"
          ]
        }
      ]
    },
    {
      "cell_type": "code",
      "source": [
        "#WAP to remove 10 and 30 from Set S1\n",
        "S1.remove(10)\n",
        "S1.remove(30)\n",
        "print(S1)"
      ],
      "metadata": {
        "colab": {
          "base_uri": "https://localhost:8080/"
        },
        "id": "N_ALOkUQ1jmX",
        "outputId": "81387d9b-f99b-4c9e-b6db-1b2cfab2d15d"
      },
      "execution_count": null,
      "outputs": [
        {
          "output_type": "stream",
          "name": "stdout",
          "text": [
            "{50, 66, 20, 55, 40, 60}\n"
          ]
        }
      ]
    },
    {
      "cell_type": "code",
      "source": [
        "#WAP to check whether 40 is present in S1\n",
        "print(\"40 present in S1:\",40 in S1)"
      ],
      "metadata": {
        "colab": {
          "base_uri": "https://localhost:8080/"
        },
        "id": "aUzboUNC2dbi",
        "outputId": "109f57ce-2dd5-4826-ce5e-a47f09b0b8f7"
      },
      "execution_count": null,
      "outputs": [
        {
          "output_type": "stream",
          "name": "stdout",
          "text": [
            "40 present in S1: True\n"
          ]
        }
      ]
    },
    {
      "cell_type": "code",
      "source": [
        "#WAP to find union between S1 and S2\n",
        "print(\"Union between S1 and S2:\",S1.union(S2))"
      ],
      "metadata": {
        "colab": {
          "base_uri": "https://localhost:8080/"
        },
        "id": "Bxq13d8j2924",
        "outputId": "f497cce4-0852-42c2-cd18-055f13a36053"
      },
      "execution_count": null,
      "outputs": [
        {
          "output_type": "stream",
          "name": "stdout",
          "text": [
            "Union between S1 and S2: {66, 70, 40, 80, 50, 20, 55, 90, 60}\n"
          ]
        }
      ]
    },
    {
      "cell_type": "code",
      "source": [
        "#WAP to find the intersection between S1 and S2\n",
        "print(\"Intersection between S1 and S2:\",S1.intersection(S2))"
      ],
      "metadata": {
        "colab": {
          "base_uri": "https://localhost:8080/"
        },
        "id": "Vm_6rJhM3LOa",
        "outputId": "d93de649-8266-47c1-a81e-20de2d52ce88"
      },
      "execution_count": null,
      "outputs": [
        {
          "output_type": "stream",
          "name": "stdout",
          "text": [
            "Intersection between S1 and S2: {40, 50, 60}\n"
          ]
        }
      ]
    },
    {
      "cell_type": "code",
      "source": [
        "#WAP to find the S1-S2\n",
        "print(\"S1-S2:\",S1-S2)"
      ],
      "metadata": {
        "colab": {
          "base_uri": "https://localhost:8080/"
        },
        "id": "Ff5pR5Hv3gRk",
        "outputId": "dcc0d409-eb5b-4049-80f6-0c47a4c31d6b"
      },
      "execution_count": null,
      "outputs": [
        {
          "output_type": "stream",
          "name": "stdout",
          "text": [
            "S1-S2: {66, 20, 55}\n"
          ]
        }
      ]
    },
    {
      "cell_type": "code",
      "source": [
        "#WAP to print 100 random strings whose length is between 6 and 8\n",
        "import string as s\n",
        "import random as r\n",
        "print(\"String:\",s.ascii_letters)\n",
        "for i in range(100):\n",
        "  ranstr=r.sample(s.ascii_letters,7)\n",
        "  stri=\"\".join(ranstr)\n",
        "  print(\"String \",i,\":\",stri)\n",
        "\n"
      ],
      "metadata": {
        "colab": {
          "base_uri": "https://localhost:8080/"
        },
        "id": "ZPDgNi4H3s8K",
        "outputId": "9ed49cca-0b73-45c1-eeac-e0845a3a93e5"
      },
      "execution_count": null,
      "outputs": [
        {
          "output_type": "stream",
          "name": "stdout",
          "text": [
            "String: abcdefghijklmnopqrstuvwxyzABCDEFGHIJKLMNOPQRSTUVWXYZ\n",
            "String  0 : wzuXlrn\n",
            "String  1 : KRlczjI\n",
            "String  2 : uwtbXSI\n",
            "String  3 : bWRmwBc\n",
            "String  4 : GYFJarz\n",
            "String  5 : PWnbxGE\n",
            "String  6 : jJrPEAO\n",
            "String  7 : aeCcYfK\n",
            "String  8 : ZKaWJko\n",
            "String  9 : QBXpeVO\n",
            "String  10 : ecMrhfA\n",
            "String  11 : srTqflJ\n",
            "String  12 : xKShbOV\n",
            "String  13 : ITlDznO\n",
            "String  14 : wHqaxhu\n",
            "String  15 : TFfZIeO\n",
            "String  16 : BJRsTwr\n",
            "String  17 : nrGDqyV\n",
            "String  18 : ngcmSsR\n",
            "String  19 : KOYFlAN\n",
            "String  20 : NsuhqMX\n",
            "String  21 : EenpaWz\n",
            "String  22 : izugdHb\n",
            "String  23 : GAprcxj\n",
            "String  24 : NnyKVMU\n",
            "String  25 : rbMxQwa\n",
            "String  26 : Qlfvxam\n",
            "String  27 : UVMNOzI\n",
            "String  28 : uhZcSQw\n",
            "String  29 : RzWfsQq\n",
            "String  30 : UyuDWGZ\n",
            "String  31 : GHXTPmC\n",
            "String  32 : JmfrWDx\n",
            "String  33 : rbysGAX\n",
            "String  34 : zZrxIke\n",
            "String  35 : hcnoExd\n",
            "String  36 : uDMHWTy\n",
            "String  37 : SmrRtTo\n",
            "String  38 : tUYjwPT\n",
            "String  39 : qgNchRG\n",
            "String  40 : VontHTl\n",
            "String  41 : UqheKPM\n",
            "String  42 : LYZEyVq\n",
            "String  43 : NLoqTfm\n",
            "String  44 : kGHfOiX\n",
            "String  45 : WvUJweN\n",
            "String  46 : NyuZWOM\n",
            "String  47 : erznwWi\n",
            "String  48 : qowGDtk\n",
            "String  49 : vOIVXur\n",
            "String  50 : YqFlUOz\n",
            "String  51 : xHMayjI\n",
            "String  52 : jgsYiXQ\n",
            "String  53 : oAsOyJH\n",
            "String  54 : OZoJabL\n",
            "String  55 : EspMAlb\n",
            "String  56 : UJzhPGe\n",
            "String  57 : vEnetaK\n",
            "String  58 : EODqkoj\n",
            "String  59 : kirKEdg\n",
            "String  60 : xPDnHYI\n",
            "String  61 : lfDGMLX\n",
            "String  62 : PRizHyD\n",
            "String  63 : LXIthae\n",
            "String  64 : dMxryqE\n",
            "String  65 : bmGuFUd\n",
            "String  66 : JhWSbui\n",
            "String  67 : DCQesUW\n",
            "String  68 : MHGoeSI\n",
            "String  69 : qGgvsmt\n",
            "String  70 : ObghRDy\n",
            "String  71 : Bhvztpd\n",
            "String  72 : pxWYEDR\n",
            "String  73 : LpIMwsj\n",
            "String  74 : qKpPmCx\n",
            "String  75 : HvBrLCA\n",
            "String  76 : qlgpnFQ\n",
            "String  77 : gSYvcCx\n",
            "String  78 : VAkKtDh\n",
            "String  79 : CYZxgDd\n",
            "String  80 : yYxNdvo\n",
            "String  81 : gvxUbqA\n",
            "String  82 : YvTwWeL\n",
            "String  83 : xtkLRIm\n",
            "String  84 : rVvHuPZ\n",
            "String  85 : cPneipL\n",
            "String  86 : gVfZMuN\n",
            "String  87 : tNjQcsv\n",
            "String  88 : rDjRstO\n",
            "String  89 : eoLHjas\n",
            "String  90 : xiNZEQv\n",
            "String  91 : YwIzoNR\n",
            "String  92 : YEuClFN\n",
            "String  93 : woYcpAu\n",
            "String  94 : jEqTbCW\n",
            "String  95 : qjQCGbs\n",
            "String  96 : MjFbolk\n",
            "String  97 : FjcLJmM\n",
            "String  98 : fMjpDWw\n",
            "String  99 : zhZORWA\n"
          ]
        }
      ]
    },
    {
      "cell_type": "code",
      "source": [
        "#WAP to print all prime numbers between 600 and 800\n",
        "for i in range(600,801):\n",
        "  f=0\n",
        "  for j in range(2,i//2+1):\n",
        "    if i%j==0:\n",
        "      f=1\n",
        "  if f==0:\n",
        "    print(\"Prime Number:\",i)"
      ],
      "metadata": {
        "colab": {
          "base_uri": "https://localhost:8080/"
        },
        "id": "kEuOx_iA4Ojs",
        "outputId": "17ae3c28-790b-444a-f779-f3d63dda2e96"
      },
      "execution_count": null,
      "outputs": [
        {
          "output_type": "stream",
          "name": "stdout",
          "text": [
            "Prime Number: 601\n",
            "Prime Number: 607\n",
            "Prime Number: 613\n",
            "Prime Number: 617\n",
            "Prime Number: 619\n",
            "Prime Number: 631\n",
            "Prime Number: 641\n",
            "Prime Number: 643\n",
            "Prime Number: 647\n",
            "Prime Number: 653\n",
            "Prime Number: 659\n",
            "Prime Number: 661\n",
            "Prime Number: 673\n",
            "Prime Number: 677\n",
            "Prime Number: 683\n",
            "Prime Number: 691\n",
            "Prime Number: 701\n",
            "Prime Number: 709\n",
            "Prime Number: 719\n",
            "Prime Number: 727\n",
            "Prime Number: 733\n",
            "Prime Number: 739\n",
            "Prime Number: 743\n",
            "Prime Number: 751\n",
            "Prime Number: 757\n",
            "Prime Number: 761\n",
            "Prime Number: 769\n",
            "Prime Number: 773\n",
            "Prime Number: 787\n",
            "Prime Number: 797\n"
          ]
        }
      ]
    },
    {
      "cell_type": "code",
      "source": [
        "#WAP to print all numbers between 100 and 1000 that are divisible by 7 and 9\n",
        "print(\"Numbers divisible by 7 and 9:\")\n",
        "for i in range(100,1001):\n",
        "  if (i%7==0 and i%9==0):\n",
        "    print(i)"
      ],
      "metadata": {
        "colab": {
          "base_uri": "https://localhost:8080/"
        },
        "id": "h5lmnddS5RFy",
        "outputId": "24653728-d299-4741-af39-3c5b5f0b5b99"
      },
      "execution_count": null,
      "outputs": [
        {
          "output_type": "stream",
          "name": "stdout",
          "text": [
            "Numbers divisible by 7 and 9:\n",
            "126\n",
            "189\n",
            "252\n",
            "315\n",
            "378\n",
            "441\n",
            "504\n",
            "567\n",
            "630\n",
            "693\n",
            "756\n",
            "819\n",
            "882\n",
            "945\n"
          ]
        }
      ]
    },
    {
      "cell_type": "code",
      "source": [
        "#WAP to create list of 10 random numbers between 10 and 30 \n",
        "import random as r\n",
        "L1=[0,0,0,0,0,0,0,0,0,0]\n",
        "L2=[0,0,0,0,0,0,0,0,0,0]\n",
        "for i in range(0,10):\n",
        "  L1[i]=(r.randint(10,30))\n",
        "  L2[i]=(r.randint(10,30))\n",
        "print(L1)\n",
        "print(L2)"
      ],
      "metadata": {
        "colab": {
          "base_uri": "https://localhost:8080/"
        },
        "id": "b6KOq-0350DJ",
        "outputId": "0c7b99e1-a8ac-4b8b-d13f-1ceb1378cc8c"
      },
      "execution_count": 2,
      "outputs": [
        {
          "output_type": "stream",
          "name": "stdout",
          "text": [
            "[12, 14, 23, 14, 17, 23, 22, 18, 14, 29]\n",
            "[12, 27, 29, 12, 26, 19, 17, 23, 11, 30]\n"
          ]
        }
      ]
    },
    {
      "cell_type": "code",
      "source": [
        "#Common numbers in two lists\n",
        "L3=set(L1)\n",
        "L4=set(L2)\n",
        "print(\"Numbers common in two lists\",L3.intersection(L2))"
      ],
      "metadata": {
        "colab": {
          "base_uri": "https://localhost:8080/"
        },
        "id": "6wjffzvl8jiE",
        "outputId": "fe3b33c0-4f38-4374-ae8c-69db04a9e496"
      },
      "execution_count": null,
      "outputs": [
        {
          "output_type": "stream",
          "name": "stdout",
          "text": [
            "Numbers common in two lists {25, 19, 15, 23}\n"
          ]
        }
      ]
    },
    {
      "cell_type": "code",
      "source": [
        "#Unique numbers in both lists\n",
        "print(\"Unique numbers in list 1:\",L3-L4)\n",
        "print(\"Unique numbers in list 2:\",L4-L3)"
      ],
      "metadata": {
        "colab": {
          "base_uri": "https://localhost:8080/"
        },
        "id": "G6A5lttt9Sku",
        "outputId": "f3e8ff34-454e-4b5c-c78b-5d8367c265b8"
      },
      "execution_count": null,
      "outputs": [
        {
          "output_type": "stream",
          "name": "stdout",
          "text": [
            "Unique numbers in list 1: {10, 14, 18, 24, 29}\n",
            "Unique numbers in list 2: {13, 17, 27, 28, 30}\n"
          ]
        }
      ]
    },
    {
      "cell_type": "code",
      "source": [
        "#Minimun in both the list\n",
        "print(\"Minimum in list 1:\",min(L1))\n",
        "print(\"Minimun in list 2:\",min(L2))"
      ],
      "metadata": {
        "colab": {
          "base_uri": "https://localhost:8080/"
        },
        "id": "duihya1Y9pqq",
        "outputId": "ab931a0c-14fd-4322-874c-9d9fc9c12b3f"
      },
      "execution_count": null,
      "outputs": [
        {
          "output_type": "stream",
          "name": "stdout",
          "text": [
            "Minimum in list 1: 10\n",
            "Minimun in list 2: 13\n"
          ]
        }
      ]
    },
    {
      "cell_type": "code",
      "source": [
        "#Maximum in both the list \n",
        "print(\"Maximum in list 1:\",max(L1))\n",
        "print(\"Maximum in list 2:\",max(L2))"
      ],
      "metadata": {
        "colab": {
          "base_uri": "https://localhost:8080/"
        },
        "id": "zyyBVMJK930q",
        "outputId": "5fb2b321-b76c-4f72-b3af-cbb55976e983"
      },
      "execution_count": null,
      "outputs": [
        {
          "output_type": "stream",
          "name": "stdout",
          "text": [
            "Maximum in list 1: 29\n",
            "Maximum in list 2: 30\n"
          ]
        }
      ]
    },
    {
      "cell_type": "code",
      "source": [
        "#Sum of both the lists\n",
        "L5=L1+L2\n",
        "print(\"Sum of both the list:\",L5)"
      ],
      "metadata": {
        "colab": {
          "base_uri": "https://localhost:8080/"
        },
        "id": "1EJVk6Hy-Ea3",
        "outputId": "d77b092e-111e-4525-e816-c63f9de96726"
      },
      "execution_count": null,
      "outputs": [
        {
          "output_type": "stream",
          "name": "stdout",
          "text": [
            "Sum of both the list: [10, 29, 18, 14, 24, 19, 15, 25, 23, 10, 17, 23, 25, 27, 28, 13, 28, 15, 30, 19]\n"
          ]
        }
      ]
    },
    {
      "cell_type": "code",
      "source": [
        "L=list(range(100))\n",
        "for i in range(100):\n",
        "  L[i]=(r.randint(100,900))\n",
        "print(L)\n",
        "print(\"All odd numbers:\")\n",
        "c1=0\n",
        "for i in range(100):\n",
        "  if L[i]%2!=0:\n",
        "    print(L[i])\n",
        "    c1+=1\n",
        "print(\"There are \",c1,\" odd numbers\")\n",
        "print(\"All even numbers:\")\n",
        "c2=0\n",
        "for i in range(100):\n",
        "  if L[i]%2==0:\n",
        "    print(L[i])\n",
        "    c2+=1\n",
        "print(\"There are \",c2,\" even numbers\")\n",
        "\n",
        "print(\"All prime numbers:\")\n",
        "c3=0\n",
        "for i in range(100):\n",
        "  f=0\n",
        "  for j in range(2,L[i]//2+1):\n",
        "    if L[i]%j==0:\n",
        "      f=1\n",
        "  if f==0:\n",
        "    print(L[i])\n",
        "    c3+=1\n",
        "print(\"There are \",c3,\" prime numbers\")"
      ],
      "metadata": {
        "colab": {
          "base_uri": "https://localhost:8080/"
        },
        "id": "l46pqS6k-SOw",
        "outputId": "9e272927-4816-4094-c626-10a72ddfbf1d"
      },
      "execution_count": 3,
      "outputs": [
        {
          "output_type": "stream",
          "name": "stdout",
          "text": [
            "[133, 502, 632, 597, 477, 430, 127, 649, 134, 442, 148, 739, 478, 503, 853, 884, 892, 478, 327, 617, 785, 801, 430, 639, 143, 127, 856, 435, 644, 245, 335, 438, 710, 375, 397, 443, 356, 525, 735, 525, 562, 461, 614, 176, 429, 293, 335, 624, 634, 234, 198, 396, 524, 865, 226, 153, 295, 475, 446, 746, 100, 898, 665, 624, 852, 834, 597, 890, 414, 536, 619, 243, 583, 453, 154, 723, 876, 481, 436, 220, 635, 803, 581, 318, 127, 565, 845, 480, 673, 268, 828, 612, 464, 724, 117, 329, 424, 161, 710, 539]\n",
            "All odd numbers:\n",
            "133\n",
            "597\n",
            "477\n",
            "127\n",
            "649\n",
            "739\n",
            "503\n",
            "853\n",
            "327\n",
            "617\n",
            "785\n",
            "801\n",
            "639\n",
            "143\n",
            "127\n",
            "435\n",
            "245\n",
            "335\n",
            "375\n",
            "397\n",
            "443\n",
            "525\n",
            "735\n",
            "525\n",
            "461\n",
            "429\n",
            "293\n",
            "335\n",
            "865\n",
            "153\n",
            "295\n",
            "475\n",
            "665\n",
            "597\n",
            "619\n",
            "243\n",
            "583\n",
            "453\n",
            "723\n",
            "481\n",
            "635\n",
            "803\n",
            "581\n",
            "127\n",
            "565\n",
            "845\n",
            "673\n",
            "117\n",
            "329\n",
            "161\n",
            "539\n",
            "There are  51  odd numbers\n",
            "All even numbers:\n",
            "502\n",
            "632\n",
            "430\n",
            "134\n",
            "442\n",
            "148\n",
            "478\n",
            "884\n",
            "892\n",
            "478\n",
            "430\n",
            "856\n",
            "644\n",
            "438\n",
            "710\n",
            "356\n",
            "562\n",
            "614\n",
            "176\n",
            "624\n",
            "634\n",
            "234\n",
            "198\n",
            "396\n",
            "524\n",
            "226\n",
            "446\n",
            "746\n",
            "100\n",
            "898\n",
            "624\n",
            "852\n",
            "834\n",
            "890\n",
            "414\n",
            "536\n",
            "154\n",
            "876\n",
            "436\n",
            "220\n",
            "318\n",
            "480\n",
            "268\n",
            "828\n",
            "612\n",
            "464\n",
            "724\n",
            "424\n",
            "710\n",
            "There are  49  even numbers\n",
            "All prime numbers:\n",
            "127\n",
            "739\n",
            "503\n",
            "853\n",
            "617\n",
            "127\n",
            "397\n",
            "443\n",
            "461\n",
            "293\n",
            "619\n",
            "127\n",
            "673\n",
            "There are  13  prime numbers\n"
          ]
        }
      ]
    },
    {
      "cell_type": "code",
      "source": [
        "D={1:\"One\",2:\"Two\",3:\"Three\",4:\"Four\",5:\"Five\"}\n",
        "f=open(\"file.txt\",\"w\")\n",
        "for i in D:\n",
        "  f.write(str(i)+\" \"+D[i])\n",
        "f.close()\n"
      ],
      "metadata": {
        "id": "bLlK4_LV-wD7"
      },
      "execution_count": null,
      "outputs": []
    },
    {
      "cell_type": "code",
      "source": [
        "L={\"One\",\"Two\",\"Three\",\"Four\",\"Five\"}\n",
        "for i in L:\n",
        "  print(i ,\",\",len(i))"
      ],
      "metadata": {
        "colab": {
          "base_uri": "https://localhost:8080/"
        },
        "id": "Y3XM75vrBiIU",
        "outputId": "e3be9e96-fc1a-4f5f-c8c1-57c6dd2ab0b0"
      },
      "execution_count": null,
      "outputs": [
        {
          "output_type": "stream",
          "name": "stdout",
          "text": [
            "Four , 4\n",
            "One , 3\n",
            "Three , 5\n",
            "Two , 3\n",
            "Five , 4\n"
          ]
        }
      ]
    },
    {
      "cell_type": "code",
      "source": [
        "#Write to the file random 100 strings whose length between 10 and 15\n",
        "file=open(\"random.txt\",\"w\")\n",
        "for i in range(100):\n",
        "  k=r.randint(10,15)\n",
        "  l=r.sample(s.ascii_letters,k)\n",
        "  p=\"\".join(l)\n",
        "  file.write(p)"
      ],
      "metadata": {
        "id": "Z9H7DAdJB270"
      },
      "execution_count": null,
      "outputs": []
    },
    {
      "cell_type": "code",
      "source": [
        "#Write to the file all prime numbers between 600 and 800\n",
        "file2=open(\"file2.txt\",\"w\")\n",
        "for i in range(600,801):\n",
        "  f=0\n",
        "  for j in range(2,i//2+1):\n",
        "    if i%j==0:\n",
        "      f=1\n",
        "  if f==0:\n",
        "    file2.write(str(i))"
      ],
      "metadata": {
        "id": "iOpikG4_CmR5"
      },
      "execution_count": null,
      "outputs": []
    },
    {
      "cell_type": "code",
      "source": [
        "#WAP to create a dictionary of student marks in five subjects and you have to find the subject having maximum and minimum average marks\n",
        "Dict={99:\"maths\",93:\"physics\",93:\"english\",97:\"chemistry\",96:\"computer science\"}\n",
        "maxd=max(Dict)\n",
        "mind=min(Dict)\n",
        "print(\"Maximum marks in \",Dict[maxd])\n",
        "print(\"Minimum marks in \",Dict[mind])"
      ],
      "metadata": {
        "colab": {
          "base_uri": "https://localhost:8080/"
        },
        "id": "c2NRleSuDp7G",
        "outputId": "69cd53ca-36d6-439f-a888-603668442f2e"
      },
      "execution_count": null,
      "outputs": [
        {
          "output_type": "stream",
          "name": "stdout",
          "text": [
            "Maximum marks in  maths\n",
            "Minimum marks in  english\n"
          ]
        }
      ]
    },
    {
      "cell_type": "code",
      "source": [
        "#WAP to calculate time taken by a program\n",
        "import time as t\n",
        "start=t.time()\n",
        "print(\"This is our program\")\n",
        "end=t.time()\n",
        "print(\"The time taken by our this program:\",end-start)"
      ],
      "metadata": {
        "id": "bwBpMtcmE-C5",
        "colab": {
          "base_uri": "https://localhost:8080/"
        },
        "outputId": "ab309762-c47d-4d0d-b796-1c44dd69bd66"
      },
      "execution_count": 1,
      "outputs": [
        {
          "output_type": "stream",
          "name": "stdout",
          "text": [
            "This is our program\n",
            "The time taken by our this program: 0.00012373924255371094\n"
          ]
        }
      ]
    },
    {
      "cell_type": "code",
      "source": [],
      "metadata": {
        "id": "jamkDV51Krju"
      },
      "execution_count": null,
      "outputs": []
    }
  ]
}